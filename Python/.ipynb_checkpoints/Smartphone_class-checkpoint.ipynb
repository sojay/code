{
 "cells": [
  {
   "cell_type": "code",
   "execution_count": 9,
   "metadata": {},
   "outputs": [
    {
     "name": "stdout",
     "output_type": "stream",
     "text": [
      "My daily driver is Samsung Galaxy S9, in Matte Black color\n",
      "My daily driver is Apple iPhone X, in Silver color\n",
      "My daily driver is OnePlus 6, in Blue moon color\n"
     ]
    }
   ],
   "source": [
    "class Smartphones:\n",
    "    def __init__(self, brand, model, color):\n",
    "        self.brand = brand\n",
    "        self.model = model\n",
    "        self.color = color\n",
    "        \n",
    "    def myphone(self):\n",
    "        print \"My daily driver is %s %s, in %s color\" % (self.brand, self.model, self.color)\n",
    "        \n",
    "phone1 = Smartphones(\"Samsung Galaxy\", \"S9\", \"Matte Black\")        \n",
    "phone2 = Smartphones(\"Apple iPhone\", \"X\", \"Silver\")\n",
    "phone3 = Smartphones(\"OnePlus\", 6, \"Blue moon\")\n",
    "\n",
    "\n",
    "phone1.myphone()\n",
    "phone2.myphone()\n",
    "phone3.myphone()"
   ]
  },
  {
   "cell_type": "code",
   "execution_count": null,
   "metadata": {},
   "outputs": [],
   "source": []
  }
 ],
 "metadata": {
  "kernelspec": {
   "display_name": "Python 2",
   "language": "python",
   "name": "python2"
  },
  "language_info": {
   "codemirror_mode": {
    "name": "ipython",
    "version": 2
   },
   "file_extension": ".py",
   "mimetype": "text/x-python",
   "name": "python",
   "nbconvert_exporter": "python",
   "pygments_lexer": "ipython2",
   "version": "2.7.14"
  }
 },
 "nbformat": 4,
 "nbformat_minor": 2
}
